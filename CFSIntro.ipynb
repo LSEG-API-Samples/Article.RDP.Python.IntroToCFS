{
 "cells": [
  {
   "cell_type": "markdown",
   "metadata": {},
   "source": [
    "# Introduction to Client File Store (CFS) - Python"
   ]
  },
  {
   "cell_type": "code",
   "execution_count": null,
   "metadata": {
    "jupyter": {
     "outputs_hidden": true
    }
   },
   "outputs": [],
   "source": [
    "import requests, json, time, getopt, sys\n",
    "import pandas as pd"
   ]
  },
  {
   "cell_type": "markdown",
   "metadata": {},
   "source": [
    "### Set Valid Credentials \n",
    "\n",
    "Valid RDP credentials are required to proceed:\n",
    "* USERNAME\n",
    "* PASSWORD\n",
    "* CLIENTID\n",
    "\n",
    "To read one's valid credentials from a file (that can be shared by many code examples), leave below code as is.\n",
    "\n",
    "To provide credentials in place:\n",
    "* replace the commented credentials with one's valid assigned credentials\n",
    "* comment the read from file step readCredsFromFile"
   ]
  },
  {
   "cell_type": "code",
   "execution_count": null,
   "metadata": {
    "jupyter": {
     "outputs_hidden": true
    }
   },
   "outputs": [],
   "source": [
    "USERNAME = \"VALIDUSER\"\n",
    "PASSWORD = \"VALIDPASSWORD\"\n",
    "CLIENT_ID = \"SELFGENERATEDCLIENTID\"\n",
    "\n",
    "def readCredsFromFile(filePathName):\n",
    "### Read valid credentials from file\n",
    "    global USERNAME, PASSWORD, CLIENT_ID\n",
    "    credFile = open(filePathName,\"r\")    # one per line\n",
    "                                                #--- RDP MACHINE ID---\n",
    "                                                #--- LONG PASSWORD---\n",
    "                                                #--- GENERATED CLIENT ID---\n",
    "\n",
    "    USERNAME = credFile.readline().rstrip('\\n')\n",
    "    PASSWORD = credFile.readline().rstrip('\\n')\n",
    "    CLIENT_ID = credFile.readline().rstrip('\\n')\n",
    "\n",
    "    credFile.close()\n",
    "\n",
    "readCredsFromFile(\"..\\creds\\credFileHuman.txt\")\n",
    "\n",
    "# Uncomment - to make sure that creds are either set in code or read in correctly\n",
    "#print(\"USERNAME=\"+str(USERNAME))\n",
    "#print(\"PASSWORD=\"+str(PASSWORD))\n",
    "#print(\"CLIENT_ID=\"+str(CLIENT_ID))"
   ]
  },
  {
   "cell_type": "markdown",
   "metadata": {},
   "source": [
    "### Set Application Constants"
   ]
  },
  {
   "cell_type": "code",
   "execution_count": null,
   "metadata": {
    "jupyter": {
     "outputs_hidden": true
    }
   },
   "outputs": [],
   "source": [
    "# Set Application Constants\n",
    "RDP_AUTH_VERSION = \"/v1\"\n",
    "RDP_CFS_VERSION = \"/v1\"\n",
    "RDP_BASE_URL = \"https://api.refinitiv.com\"\n",
    "CATEGORY_URL = \"/auth/oauth2\"\n",
    "ENDPOINT_URL = \"/token\"\n",
    "CLIENT_SECRET = \"\"\n",
    "TOKEN_FILE = \"token.txt\"\n",
    "SCOPE = \"trapi\""
   ]
  },
  {
   "cell_type": "markdown",
   "metadata": {},
   "source": [
    "### Define Token Handling and Obtain a Valid Token\n",
    "\n",
    "Having a valid token is a pre-requisite to requesting of any RDP content, and will be passed into the next steps."
   ]
  },
  {
   "cell_type": "code",
   "execution_count": null,
   "metadata": {
    "jupyter": {
     "outputs_hidden": true
    }
   },
   "outputs": [],
   "source": [
    "TOKEN_ENDPOINT = RDP_BASE_URL + CATEGORY_URL + RDP_AUTH_VERSION + ENDPOINT_URL\n",
    "\n",
    "def _requestNewToken(refreshToken):\n",
    "    if refreshToken is None:\n",
    "        tData = {\n",
    "            \"username\": USERNAME,\n",
    "            \"password\": PASSWORD,\n",
    "            \"grant_type\": \"password\",\n",
    "            \"scope\": SCOPE,\n",
    "            \"takeExclusiveSignOnControl\": \"true\"\n",
    "        };\n",
    "    else:\n",
    "        tData = {\n",
    "            \"refresh_token\": refreshToken,\n",
    "            \"grant_type\": \"refresh_token\",\n",
    "        };\n",
    "\n",
    "    # Make a REST call to get latest access token\n",
    "    response = requests.post(\n",
    "        TOKEN_ENDPOINT,\n",
    "        headers = {\n",
    "            \"Accept\": \"application/json\"\n",
    "        },\n",
    "        data = tData,\n",
    "        auth = (\n",
    "            CLIENT_ID,\n",
    "            CLIENT_SECRET\n",
    "        )\n",
    "    )\n",
    "    \n",
    "    if response.status_code != 200:\n",
    "        raise Exception(\"Failed to get access token {0} - {1}\".format(response.status_code, response.text));\n",
    "\n",
    "    # Return the new token\n",
    "    return json.loads(response.text);\n",
    "\n",
    "def saveToken(tknObject):\n",
    "    tf = open(TOKEN_FILE, \"w+\");\n",
    "    print(\"Saving the new token\");\n",
    "    # Append the expiry time to token\n",
    "    tknObject[\"expiry_tm\"] = time.time() + int(tknObject[\"expires_in\"]) - 10;\n",
    "    # Store it in the file\n",
    "    json.dump(tknObject, tf, indent=4)\n",
    "    \n",
    "def getToken():\n",
    "    try:\n",
    "        print(\"Reading the token from: \" + TOKEN_FILE);\n",
    "        # Read the token from a file\n",
    "        tf = open(TOKEN_FILE, \"r+\")\n",
    "        tknObject = json.load(tf);\n",
    "\n",
    "        # Is access token valid\n",
    "        if tknObject[\"expiry_tm\"] > time.time():\n",
    "            # return access token\n",
    "            return tknObject[\"access_token\"];\n",
    "\n",
    "        print(\"Token expired, refreshing a new one...\");\n",
    "        tf.close();\n",
    "        # Get a new token from refresh token\n",
    "        tknObject = _requestNewToken(tknObject[\"refresh_token\"]);\n",
    "\n",
    "    except Exception as exp:\n",
    "        print(\"Caught exception: \" + str(exp))\n",
    "        print(\"Getting a new token using Password Grant...\");\n",
    "        tknObject = _requestNewToken(None);\n",
    "\n",
    "    # Persist this token for future queries\n",
    "    saveToken(tknObject)\n",
    "    print(\"Token is: \" + tknObject[\"access_token\"])\n",
    "    # Return access token\n",
    "    return tknObject[\"access_token\"];\n",
    "\n",
    "accessToken = getToken();\n",
    "print(\"Have token now\");"
   ]
  },
  {
   "cell_type": "markdown",
   "metadata": {},
   "source": [
    "### Select CFS Bucket to Test with"
   ]
  },
  {
   "cell_type": "code",
   "execution_count": null,
   "metadata": {
    "jupyter": {
     "outputs_hidden": true
    }
   },
   "outputs": [],
   "source": [
    "# RDP_CFS_BUCKET = \"ESG\"\n",
    "RDP_CFS_BUCKET = input()\n",
    "print('RDP_CFS_BUCKET=' + RDP_CFS_BUCKET)"
   ]
  },
  {
   "cell_type": "markdown",
   "metadata": {},
   "source": [
    "### Request Available File Sets in the Bucket"
   ]
  },
  {
   "cell_type": "code",
   "execution_count": null,
   "metadata": {
    "jupyter": {
     "outputs_hidden": true
    }
   },
   "outputs": [],
   "source": [
    "FILESET_ENDPOINT = RDP_BASE_URL+'/file-store'+RDP_CFS_VERSION + '/file-sets?bucket='+ RDP_CFS_BUCKET\n",
    "FILESET_ID = ''\n",
    "\n",
    "def requestFileSets(token, withNext, skipToken, bucket, attributes):   \n",
    "    global FILESET_ENDPOINT    \n",
    "    print(\"Obtaining FileSets in \"+bucket+\" Bucket...\")\n",
    "  \n",
    "    FILESET_ENDPOINT = RDP_BASE_URL+'/file-store'+RDP_CFS_VERSION + '/file-sets?bucket='+ bucket\n",
    "    \n",
    "    querystring = {}\n",
    "    payload = \"\"\n",
    "    jsonfull = \"\"\n",
    "    jsonpartial = \"\"\n",
    "    \n",
    "    headers = {\n",
    "            'Content-Type': \"application/json\",\n",
    "            'Authorization': \"Bearer \" + token,\n",
    "            'cache-control': \"no-cache\"\n",
    "    }\n",
    "\n",
    "    if attributes:\n",
    "        FILESET_ENDPOINT = FILESET_ENDPOINT + attributes\n",
    "    if withNext:\n",
    "        FILESET_ENDPOINT = FILESET_ENDPOINT + '&skipToken=' +skipToken\n",
    "        \n",
    "    response = requests.request(\"GET\", FILESET_ENDPOINT, data=payload, headers=headers, params=querystring)\n",
    "    \n",
    "    if response.status_code != 200:\n",
    "        if response.status_code == 401:   # error when token expired\n",
    "                accessToken = getToken();     # token refresh on token expired\n",
    "                headers['Authorization'] = \"Bearer \" + accessToken\n",
    "                response = requests.request(\"GET\", FILESET_ENDPOINT, data=payload, headers=headers, params=querystring)\n",
    "         \n",
    "    print('Raw response=');\n",
    "    print(response);\n",
    "    \n",
    "    if response.status_code == 200:\n",
    "        jsonFullResp = json.loads(response.text)\n",
    "        return jsonFullResp; \n",
    "    else:\n",
    "        return '';\n",
    "\n",
    "jsonFullResp = requestFileSets(accessToken, False, '',RDP_CFS_BUCKET,'');\n",
    "\n",
    "print('Parsed json response=');\n",
    "print(json.dumps(jsonFullResp, indent=2));\n",
    "print('Same response, tabular view');\n",
    "df = pd.json_normalize(jsonFullResp['value'])\n",
    "df"
   ]
  },
  {
   "cell_type": "markdown",
   "metadata": {},
   "source": [
    "### Pick File Set Id"
   ]
  },
  {
   "cell_type": "code",
   "execution_count": null,
   "metadata": {
    "jupyter": {
     "outputs_hidden": true
    }
   },
   "outputs": [],
   "source": [
    "# Optionally, copy from result of \"Present FileSet Results in Tabular View\"\n",
    "FILESET_ID = input()\n",
    "print('FILESET_ID selected is: ' + FILESET_ID)"
   ]
  },
  {
   "cell_type": "markdown",
   "metadata": {},
   "source": [
    "### Paginate Through All the Available FileSets\n",
    "(interrupt at any point)"
   ]
  },
  {
   "cell_type": "code",
   "execution_count": null,
   "metadata": {
    "jupyter": {
     "outputs_hidden": true
    }
   },
   "outputs": [],
   "source": [
    "i = 1\n",
    "while \"@nextLink\" in jsonFullResp: \n",
    "    print('<<< Iteraction: '+str(i)+' >>>  More exists: '+ jsonFullResp['@nextLink'] + ', skipToken is: ' + jsonFullResp['@nextLink'][-62:]+'\\n')\n",
    "    jsonFullResp = requestFileSets(accessToken, True, jsonFullResp['@nextLink'][-62:],RDP_CFS_BUCKET,'');\n",
    "    print(json.dumps(jsonFullResp, indent=2));\n",
    "    i+=1;\n",
    "print('Last response without next=');\n",
    "print(json.dumps(jsonFullResp, indent=2));"
   ]
  },
  {
   "cell_type": "markdown",
   "metadata": {},
   "source": [
    "### Request Available Packages"
   ]
  },
  {
   "cell_type": "code",
   "execution_count": null,
   "metadata": {
    "jupyter": {
     "outputs_hidden": true
    }
   },
   "outputs": [],
   "source": [
    "#https://api.refinitiv.com/file-store/v1/packages?packageName={packageName}\n",
    "#https://api.refinitiv.com/file-store/v1/packages\n",
    "PACKAGES_ENDPOINT = RDP_BASE_URL+'/file-store'+RDP_CFS_VERSION + '/packages?packageType=bulk'\n",
    "PACKAGE_ID = ''\n",
    "\n",
    "def requestPackages(token, withNext, skipToken, attributes):   \n",
    "    global PACKAGES_ENDPOINT    \n",
    "    print(\"Obtaining Packages of type bulk\")\n",
    "  \n",
    "    PACKAGES_ENDPOINT = RDP_BASE_URL+'/file-store'+RDP_CFS_VERSION + '/packages'\n",
    "    \n",
    "    querystring = {}\n",
    "    payload = \"\"\n",
    "    jsonfull = \"\"\n",
    "    jsonpartial = \"\"\n",
    "    \n",
    "    headers = {\n",
    "            'Content-Type': \"application/json\",\n",
    "            'Authorization': \"Bearer \" + token,\n",
    "            'cache-control': \"no-cache\"\n",
    "    }\n",
    "\n",
    "    if attributes:\n",
    "        PACKAGES_ENDPOINT = PACKAGES_ENDPOINT + attributes\n",
    "    if withNext:\n",
    "        PACKAGES_ENDPOINT = PACKAGES_ENDPOINT + '&skipToken=' +skipToken\n",
    "        \n",
    "    response = requests.request(\"GET\", PACKAGES_ENDPOINT, data=payload, headers=headers, params=querystring)\n",
    "    \n",
    "    if response.status_code != 200:\n",
    "        if response.status_code == 401:   # error when token expired\n",
    "                accessToken = getToken();     # token refresh on token expired\n",
    "                headers['Authorization'] = \"Bearer \" + accessToken\n",
    "                response = requests.request(\"GET\", PACKAGES_ENDPOINT, data=payload, headers=headers, params=querystring)\n",
    "         \n",
    "    print('Raw response=');\n",
    "    print(response);\n",
    "    \n",
    "    if response.status_code == 200:\n",
    "        jsonFullResp = json.loads(response.text)\n",
    "        return jsonFullResp; \n",
    "    else:\n",
    "        return '';\n",
    "\n",
    "jsonFullResp = requestPackages(accessToken, False, '',''); \n",
    "print('Parsed json response=');\n",
    "print(json.dumps(jsonFullResp, indent=2));\n",
    "df = pd.json_normalize(jsonFullResp['value'])\n",
    "df"
   ]
  },
  {
   "cell_type": "markdown",
   "metadata": {},
   "source": [
    "### Select Package Id"
   ]
  },
  {
   "cell_type": "code",
   "execution_count": null,
   "metadata": {
    "jupyter": {
     "outputs_hidden": true
    }
   },
   "outputs": [],
   "source": [
    "# Optionally, copy from result of \"Present Packages Result in Tabular View\"\n",
    "PACKAGE_ID = input()\n",
    "print('PACKAGE_ID selected is: ' + PACKAGE_ID)"
   ]
  },
  {
   "cell_type": "markdown",
   "metadata": {},
   "source": [
    "### Retrieve FileSets of Specific File Type (Filter By Attribute and By PackageId)\n",
    "The file types may change over time, at the time of this writing, we are going to use as examples:\n",
    "\n",
    "* ESG Sources\n",
    "* Symbology Cusip\n",
    "\n",
    "Further, the selected package, if also filtering by packageId has to contain the files per filtering arrtibutes, in order to request their listing succefully,\n",
    "otherwise the result will be empty.\n"
   ]
  },
  {
   "cell_type": "code",
   "execution_count": null,
   "metadata": {
    "jupyter": {
     "outputs_hidden": true
    }
   },
   "outputs": [],
   "source": [
    "jsonFullResp = requestFileSets(accessToken, False, '',RDP_CFS_BUCKET,'&attributes=ContentType:Symbology Cusip');\n",
    "print('Parsed json response=');\n",
    "print(json.dumps(jsonFullResp, indent=2));\n",
    "print('Same response, tabular view');\n",
    "df = pd.json_normalize(jsonFullResp['value'])\n",
    "df"
   ]
  },
  {
   "cell_type": "code",
   "execution_count": null,
   "metadata": {
    "jupyter": {
     "outputs_hidden": true
    }
   },
   "outputs": [],
   "source": [
    "# PackageId 4867-9a46-216e838a-9241-8fc3561b51ef\n",
    "jsonFullResp = requestFileSets(accessToken, False, '',RDP_CFS_BUCKET,'&packageId='+PACKAGE_ID+'&attributes=ContentType:ESG Scores');\n",
    "print('Parsed json response=');\n",
    "print(json.dumps(jsonFullResp, indent=2));\n",
    "print('Same response, tabular view');\n",
    "df = pd.json_normalize(jsonFullResp['value'])\n",
    "df"
   ]
  },
  {
   "cell_type": "markdown",
   "metadata": {},
   "source": [
    "### Example - Retrieve Tick History File Sets for a Given Venue In View"
   ]
  },
  {
   "cell_type": "code",
   "execution_count": null,
   "metadata": {
    "jupyter": {
     "outputs_hidden": true
    }
   },
   "outputs": [],
   "source": [
    "RDP_TH_BUCKET = 'TICKHISTORY_VBD_UNLIMITED'\n",
    "CFS_VBD_VENUE = 'NSQ'\n",
    "CFS_VBD_VIEW = 'normalized'\n",
    "jsonFullResp = requestFileSets(accessToken, False, '',RDP_TH_BUCKET,'&attributes=venue:'+CFS_VBD_VENUE+',view='+CFS_VBD_VIEW);\n",
    "print('Parsed json response=');\n",
    "print(json.dumps(jsonFullResp, indent=2));\n",
    "print('Same response, tabular view');\n",
    "df = pd.json_normalize(jsonFullResp['value'])\n",
    "df"
   ]
  },
  {
   "cell_type": "markdown",
   "metadata": {},
   "source": [
    "### Example - Retrieve Tick History File Sets for a Given Venue Limit By Dates"
   ]
  },
  {
   "cell_type": "code",
   "execution_count": null,
   "metadata": {
    "jupyter": {
     "outputs_hidden": true
    }
   },
   "outputs": [],
   "source": [
    "jsonFullResp = requestFileSets(accessToken, False, '',RDP_TH_BUCKET,'&attributes=venue:'+CFS_VBD_VENUE+',view='+CFS_VBD_VIEW+\n",
    "                               '&contentFrom=2007-01-01T00:00:00Z&contentTo=2010-01-01T00:00:00Z');\n",
    "print('Parsed json response=');\n",
    "print(json.dumps(jsonFullResp, indent=2));\n",
    "print('Same response, tabular view');\n",
    "df = pd.json_normalize(jsonFullResp['value'])\n",
    "df"
   ]
  },
  {
   "cell_type": "markdown",
   "metadata": {},
   "source": [
    "### Retrieve Complete File Details of FileSet ID\n",
    "\n",
    "In a previous step we have stored a FileSet ID that we are about to use for the demonstartion of this feature."
   ]
  },
  {
   "cell_type": "code",
   "execution_count": null,
   "metadata": {
    "jupyter": {
     "outputs_hidden": true
    }
   },
   "outputs": [],
   "source": [
    "FILES_ENDPOINT = RDP_BASE_URL+'/file-store'+RDP_CFS_VERSION + '/files?filesetId='+ FILESET_ID\n",
    " \n",
    "def requestFileDetails(token):   \n",
    "    global FILES_ENDPOINT\n",
    "    print(\"Obtaining File details for FileSet= \"+ FILESET_ID + \" ...\")\n",
    "    print(\"(If result is Response=400, make sure that FILESET_ID is set with a valid value...)\")\n",
    "  \n",
    "    querystring = {}\n",
    "    payload = \"\"\n",
    "    jsonfull = \"\"\n",
    "    jsonpartial = \"\"\n",
    "    \n",
    "    headers = {\n",
    "            'Content-Type': \"application/json\",\n",
    "            'Authorization': \"Bearer \" + token,\n",
    "            'cache-control': \"no-cache\"\n",
    "    }\n",
    "        \n",
    "    response = requests.request(\"GET\", FILES_ENDPOINT, data=payload, headers=headers, params=querystring)\n",
    "    \n",
    "    if response.status_code != 200:\n",
    "        if response.status_code == 401:   # error when token expired\n",
    "                accessToken = getToken();     # token refresh on token expired\n",
    "                headers['Authorization'] = \"Bearer \" + accessToken\n",
    "                response = requests.request(\"GET\", FILES_ENDPOINT, data=payload, headers=headers, params=querystring)\n",
    "         \n",
    "    print('Raw response=');\n",
    "    print(response);\n",
    "    \n",
    "    if response.status_code == 200:\n",
    "        jsonFullResp = json.loads(response.text)\n",
    "        return jsonFullResp; \n",
    "    else:\n",
    "        return '';\n",
    "\n",
    "jsonFullResp = requestFileDetails(accessToken);\n",
    "print('Parsed json response=');\n",
    "print(json.dumps(jsonFullResp, indent=2));\n",
    "df = pd.json_normalize(jsonFullResp['value'])\n",
    "df"
   ]
  },
  {
   "cell_type": "markdown",
   "metadata": {},
   "source": [
    "### Select File Id and File Name ( To Be Requested)"
   ]
  },
  {
   "cell_type": "code",
   "execution_count": null,
   "metadata": {
    "jupyter": {
     "outputs_hidden": true
    }
   },
   "outputs": [],
   "source": [
    "# Optionally, copy from result of \"Retrieve Complete File Details of FileSet ID\"\n",
    "FILE_ID = input()\n",
    "print('FILE_ID selected is: ' + FILE_ID)\n",
    "FILE_NAME = input()\n",
    "print('FILE_NAME selected is: ' + FILE_NAME)"
   ]
  },
  {
   "cell_type": "markdown",
   "metadata": {},
   "source": [
    "###  Stream File via File Id using Redirect"
   ]
  },
  {
   "cell_type": "code",
   "execution_count": null,
   "metadata": {
    "jupyter": {
     "outputs_hidden": true
    }
   },
   "outputs": [],
   "source": [
    "import shutil\n",
    "\n",
    "FILES_STREAM_ENDPOINT_START = RDP_BASE_URL+'/file-store'+RDP_CFS_VERSION + '/files/'\n",
    "\n",
    "# use valid values, obtained from the previous step\n",
    "exampleFileId = '4edd-99af-da829f42-8ddd-07fabfcddca9'  \n",
    "exampleFileName = 'RFT-ESG-Sources-Full-Init-2021-01-17-part07.jsonl.gz'\n",
    "\n",
    "def requestFileDownload(token, fileId, fileName):   \n",
    "    FILES_STREAM_ENDPOINT = FILES_STREAM_ENDPOINT_START + fileId+ '/stream'\n",
    "    print(\"Obtaining File ... \" + FILES_STREAM_ENDPOINT)\n",
    "  \n",
    "    chunk_size = 1000\n",
    "    \n",
    "    headers = {\n",
    "            'Authorization': 'Bearer ' + token,\n",
    "            'cache-control': \"no-cache\",\n",
    "            'Accept': '*/*'\n",
    "    }\n",
    "        \n",
    "    response = requests.request(\"GET\", FILES_STREAM_ENDPOINT, headers=headers, stream=True, allow_redirects=True)\n",
    "    \n",
    "    if response.status_code != 200:\n",
    "        if response.status_code == 401:   # error when token expired\n",
    "                accessToken = getToken();     # token refresh on token expired\n",
    "                headers['Authorization'] = \"Bearer \" + accessToken\n",
    "                response = requests.request(\"GET\",FILES_STREAM_ENDPOINT, headers=headers, stream=True, allow_redirects=True)\n",
    "\n",
    "         \n",
    "    print('Response code=' + str(response.status_code));\n",
    "    \n",
    "    if response.status_code == 200:\n",
    "        print('Processing...')\n",
    "        with open(fileName, 'wb') as fd:\n",
    "            shutil.copyfileobj(response.raw, fd) \n",
    "        print('Look for gzipped file named: '+ fileName + ' in current directory')\n",
    "        response.connection.close()\n",
    "        \n",
    "    return; \n",
    "\n",
    "# consider below an example only\n",
    "requestFileDownload(accessToken, exampleFileId, exampleFileName);\n",
    "#requestFileDownload(accessToken, FILE_ID, FILE_NAME);"
   ]
  },
  {
   "cell_type": "markdown",
   "metadata": {},
   "source": [
    "### Stream All Files In FileSet\n",
    "This may take long .<.>. .<.>. .<.>."
   ]
  },
  {
   "cell_type": "code",
   "execution_count": null,
   "metadata": {
    "jupyter": {
     "outputs_hidden": true
    }
   },
   "outputs": [],
   "source": [
    "print(\"List of files to be streamed by this step:\")\n",
    "for item in jsonFullResp['value']:\n",
    "    print ('File name: ' +item['filename'])\n",
    "print(\"\\n... Starting to stream now, this may take long  .<.>. .<.>. .<.>.\")\n",
    "for item in jsonFullResp['value']:\n",
    "    print ('Streaming File: ' +item['filename'])\n",
    "    requestFileDownload(accessToken, item['id'],item['filename']);"
   ]
  },
  {
   "cell_type": "markdown",
   "metadata": {},
   "source": [
    "### Get File Location (Step 1 of 2)"
   ]
  },
  {
   "cell_type": "code",
   "execution_count": null,
   "metadata": {
    "jupyter": {
     "outputs_hidden": true
    }
   },
   "outputs": [],
   "source": [
    "import shutil\n",
    "\n",
    "FILES_STREAM_ENDPOINT_START = RDP_BASE_URL+'/file-store'+RDP_CFS_VERSION + '/files/'\n",
    "DIRECT_URL = ''\n",
    "\n",
    "exampleFileId = '4edd-99af-da829f42-8ddd-07fabfcddca9'\n",
    " \n",
    "def requestFileLocation(token, fileId):   \n",
    "    \n",
    "    FILES_STREAM_ENDPOINT = FILES_STREAM_ENDPOINT_START + fileId+ '/stream?doNotRedirect=true'\n",
    "    \n",
    "    print(\"Obtaining File ... \" + FILES_STREAM_ENDPOINT)\n",
    "  \n",
    "    chunk_size = 1000\n",
    "    \n",
    "    headers = {\n",
    "            'Authorization': 'Bearer ' + token,\n",
    "            'cache-control': \"no-cache\",\n",
    "            'Accept': '*/*'\n",
    "    }\n",
    "        \n",
    "    response = requests.request(\"GET\", FILES_STREAM_ENDPOINT, headers=headers, stream=False, allow_redirects=False)\n",
    "    \n",
    "    if response.status_code != 200:\n",
    "        if response.status_code == 401:   # error when token expired\n",
    "                accessToken = getToken();     # token refresh on token expired\n",
    "                headers['Authorization'] = \"Bearer \" + accessToken\n",
    "                response = requests.request(\"GET\",FILES_STREAM_ENDPOINT, headers=headers, stream=False, allow_redirects=False)\n",
    "\n",
    "         \n",
    "    print('Response code=' + str(response.status_code));\n",
    "    \n",
    "    if response.status_code == 200:\n",
    "        jsonFullResp = json.loads(response.text)\n",
    "        print('Parsed json response=');\n",
    "        print(json.dumps(jsonFullResp, indent=2));\n",
    "        DIRECT_URL = jsonFullResp['url'];\n",
    "        print('File Direct URL is: '  +str(DIRECT_URL)+ '|||');\n",
    "        \n",
    "    return DIRECT_URL; \n",
    "\n",
    "\n",
    "DIRECT_URL = requestFileLocation(accessToken, FILE_ID);"
   ]
  },
  {
   "cell_type": "markdown",
   "metadata": {},
   "source": [
    "### Download File From File Location (Step 2 of 2)"
   ]
  },
  {
   "cell_type": "code",
   "execution_count": null,
   "metadata": {
    "jupyter": {
     "outputs_hidden": true
    }
   },
   "outputs": [],
   "source": [
    "from urllib.parse import urlparse, parse_qs\n",
    "\n",
    "exampleFileName = 'RFT-ESG-Sources-Full-Init-2021-01-17-part07.jsonl.gz'\n",
    "\n",
    "def requestDirectFileDownload(token, fileURL, fileName):   \n",
    "\n",
    "    print(\"Obtaining File from URL... \" + fileURL + '... to file name=' + fileName)\n",
    "    \n",
    "    #Parse out URL parameters for submission into requests\n",
    "    url_obj = urlparse(fileURL)\n",
    "    parsed_params = parse_qs(url_obj.query)\n",
    "    # extract the URL without query parameters\n",
    "    parsed_url = url_obj._replace(query=None).geturl()\n",
    "\n",
    "    response = requests.get(parsed_url, params=parsed_params,stream=True)\n",
    "        \n",
    "    if response.status_code != 200:\n",
    "        if response.status_code == 401:   # error when token expired\n",
    "                accessToken = getToken();     # token refresh on token expired\n",
    "                headers['Authorization'] = \"Bearer \" + accessToken\n",
    "                response = requests.get(parsed_url, params=query)\n",
    "\n",
    "         \n",
    "    print('Response code=' + str(response.status_code));        \n",
    "  \n",
    "    filename = 'another_'+fileName    \n",
    "    \n",
    "    if response.status_code == 200:\n",
    "        print('Processing...')\n",
    "        with open(filename, 'wb') as fd:\n",
    "            shutil.copyfileobj(response.raw, fd) \n",
    "\n",
    "        print('Look for gzipped file named: '+ filename + ' in current directory')\n",
    "        response.connection.close()\n",
    "        \n",
    "    return; \n",
    "\n",
    "\n",
    "requestDirectFileDownload(accessToken, DIRECT_URL, FILE_NAME);"
   ]
  },
  {
   "cell_type": "code",
   "execution_count": null,
   "metadata": {
    "jupyter": {
     "outputs_hidden": true
    }
   },
   "outputs": [],
   "source": []
  }
 ],
 "metadata": {
  "kernelspec": {
   "display_name": "Python 3",
   "language": "python",
   "name": "python3"
  },
  "language_info": {
   "codemirror_mode": {
    "name": "ipython",
    "version": 3
   },
   "file_extension": ".py",
   "mimetype": "text/x-python",
   "name": "python",
   "nbconvert_exporter": "python",
   "pygments_lexer": "ipython3",
   "version": "3.8.5"
  }
 },
 "nbformat": 4,
 "nbformat_minor": 4
}
